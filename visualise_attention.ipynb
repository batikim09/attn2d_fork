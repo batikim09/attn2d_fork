{
 "cells": [
  {
   "cell_type": "code",
   "execution_count": 36,
   "metadata": {},
   "outputs": [
    {
     "name": "stdout",
     "output_type": "stream",
     "text": [
      "Populating the interactive namespace from numpy and matplotlib\n",
      "DEBUG: loading all stats from:  ./save/en_us_large/evaluations/test/activat_o0.attn\n"
     ]
    },
    {
     "name": "stderr",
     "output_type": "stream",
     "text": [
      "/home/jaebok/miniconda3/envs/pytorch_env/lib/python3.6/site-packages/IPython/core/magics/pylab.py:160: UserWarning: pylab import has clobbered these variables: ['grid', 'source']\n",
      "`%matplotlib` prevents importing * from pylab and numpy\n",
      "  \"\\n`%matplotlib` prevents importing * from pylab and numpy\"\n"
     ]
    }
   ],
   "source": [
    "%pylab inline\n",
    "rcParams[\"figure.figsize\"] = (20,5)\n",
    "from glob import glob\n",
    "\n",
    "import pandas as pd\n",
    "from torch import nn\n",
    "from torch.autograd import Variable\n",
    "\n",
    "import os\n",
    "import numpy as np\n",
    "import pyworld\n",
    "import pysptk\n",
    "import librosa\n",
    "\n",
    "import sys\n",
    "import math\n",
    "import torch\n",
    "import pickle\n",
    "from matplotlib import pyplot as plt\n",
    "import Levenshtein\n",
    "\n",
    "#load outputs\n",
    "file = \"./save/en_us_large/evaluations/test/activat_o0.attn\"\n",
    "\n",
    "with open(file, \"rb\") as pf:\n",
    "    print(\"DEBUG: loading all stats from: \", file)\n",
    "    outputs = pickle.load(pf)\n",
    "\n",
    "source = outputs['source']\n",
    "preds = outputs['preds']\n",
    "alpha = outputs['alpha']\n",
    "align = outputs['align']\n",
    "activ_align = outputs['activ_align']\n",
    "activ = outputs['activ']\n",
    "embed_activ = outputs['embed_activ']\n",
    "channels_cst = outputs['channels_cst']\n",
    "per = outputs['PER']\n",
    "gl = outputs['gl']"
   ]
  },
  {
   "cell_type": "code",
   "execution_count": 43,
   "metadata": {},
   "outputs": [
    {
     "name": "stdout",
     "output_type": "stream",
     "text": [
      "source:  a c c e n t u a t e s \n",
      "prediction: & k . \" s E n . tS u: . eI t s\n",
      "label:  @ k . \" s E n . tS u: . eI t s\n",
      "phone distance:  1\n",
      "(11, 14)\n"
     ]
    },
    {
     "data": {
      "image/png": "[encoded data removed]",
      "text/plain": [
       "<Figure size 1440x360 with 1 Axes>"
      ]
     },
     "metadata": {},
     "output_type": "display_data"
    }
   ],
   "source": [
    "best_idx = 0\n",
    "lowest = 100\n",
    "\n",
    "#find best matching\n",
    "for idx in range(0, 100):\n",
    "    src = source[idx][0].split(\" \")\n",
    "    pred = preds[idx].strip().split(\" \")\n",
    "    dist = Levenshtein.distance(\" \".join(pred), label)\n",
    "    if dist < lowest:\n",
    "        best_idx = idx\n",
    "\n",
    "#visualising attention\n",
    "print(\"source: \",  source[best_idx][0], \"\\nprediction:\", preds[best_idx])\n",
    "src = source[best_idx][0].split(\" \")\n",
    "pred = preds[best_idx].strip().split(\" \")\n",
    "a = activ_align[best_idx]\n",
    "label = gl[best_idx]\n",
    "print(\"label: \", label)\n",
    "print(\"phone distance: \", Levenshtein.distance(\" \".join(pred), label))\n",
    "\n",
    "grid = np.zeros((len(src), len(pred) ))\n",
    "print(grid.shape)\n",
    "\n",
    "for i in range(0, len(src)):\n",
    "    for j in range(0, len(pred)):\n",
    "        grid[i][j] = a[j][0][i]\n",
    "\n",
    "plt.imshow(grid, interpolation='none', cmap='Greys')\n",
    "plt.ylabel('grapheme')\n",
    "plt.xlabel('phoneme')\n",
    "plt.show()\n"
   ]
  },
  {
   "cell_type": "code",
   "execution_count": null,
   "metadata": {},
   "outputs": [],
   "source": []
  }
 ],
 "metadata": {
  "kernelspec": {
   "display_name": "Python [conda env:pytorch_env]",
   "language": "python",
   "name": "conda-env-pytorch_env-py"
  },
  "language_info": {
   "codemirror_mode": {
    "name": "ipython",
    "version": 3
   },
   "file_extension": ".py",
   "mimetype": "text/x-python",
   "name": "python",
   "nbconvert_exporter": "python",
   "pygments_lexer": "ipython3",
   "version": "3.6.6"
  }
 },
 "nbformat": 4,
 "nbformat_minor": 2
}
